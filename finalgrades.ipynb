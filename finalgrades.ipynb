{
 "cells": [
  {
   "cell_type": "markdown",
   "metadata": {
    "pycharm": {
     "name": "#%% md\n"
    }
   },
   "source": [
    "# Packages and paths"
   ]
  },
  {
   "cell_type": "code",
   "execution_count": 11,
   "metadata": {
    "pycharm": {
     "name": "#%%\n"
    }
   },
   "outputs": [],
   "source": [
    "# Packages and modules\n",
    "import os\n",
    "import sys\n",
    "import numpy as np\n",
    "import pandas as pd\n",
    "import plotly.express as px\n",
    "\n",
    "# Mount Google Drive, if running in Colab\n",
    "if 'COLAB_GPU' in os.environ:\n",
    "    from google.colab import drive\n",
    "    drive.mount('/content/drive')\n",
    "    sys.path.insert(0,'/content/drive/My Drive/Colab Notebooks/Canvas')\n",
    "\n",
    "# Change this to the path for the current version of the course\n",
    "if os.path.isdir('/Users/mmchenry/Documents/Teaching'):\n",
    "    root = '/Users/mmchenry/Documents/Teaching/E109/2023_SS2'\n",
    "\n",
    "# Here is an alternate path, on Google Drive\n",
    "elif os.path.isdir('/content/drive/MyDrive/Teaching'):\n",
    "    root = '/content/drive/MyDrive/Teaching/E109 Human Physiology/e109 S2022'\n",
    "\n",
    "# And here is another possibility (e.g., for the TA)\n",
    "elif os.path.isdir('/content/drive/MyDrive/Grad/teaching/e109s22/e109 S2022'):\n",
    "    root = '/content/drive/MyDrive/Grad/teaching/e109s22/e109 S2022'\n",
    "\n",
    "else:\n",
    "    raise ValueError('root path not found. Need to add new root path.')\n",
    "\n",
    "gradebook_file = \"2023-08-20T1433_Grades-BIO_SCI_E109_LEC_A__HU...\"\n"
   ]
  },
  {
   "cell_type": "markdown",
   "metadata": {
    "pycharm": {
     "name": "#%% md\n"
    }
   },
   "source": [
    "# Import scores"
   ]
  },
  {
   "cell_type": "code",
   "execution_count": 12,
   "metadata": {
    "pycharm": {
     "name": "#%%\n"
    }
   },
   "outputs": [
    {
     "data": {
      "application/vnd.plotly.v1+json": {
       "config": {
        "plotlyServerURL": "https://plot.ly"
       },
       "data": [
        {
         "alignmentgroup": "True",
         "bingroup": "x",
         "hovertemplate": "Unposted Final Score=%{x}<br>count=%{y}<extra></extra>",
         "legendgroup": "",
         "marker": {
          "color": "#636efa",
          "pattern": {
           "shape": ""
          }
         },
         "name": "",
         "nbinsx": 100,
         "offsetgroup": "",
         "orientation": "v",
         "showlegend": false,
         "type": "histogram",
         "x": [
          75.21,
          96.16,
          82.02,
          90.44,
          77.42,
          97.25,
          82.53,
          71.83,
          92.25,
          82.24,
          85.06,
          81.35,
          63.99,
          85.26,
          87.8,
          81.44,
          76.49,
          69.18,
          74.1,
          81.01,
          89.6,
          92.72,
          61.11,
          73.46,
          66.62,
          90.69,
          83.41,
          62.2,
          84.65,
          90.75,
          72.48,
          81.45,
          74.78,
          72.19,
          62.23,
          73.02,
          66.28,
          54.54,
          63.57,
          85.52,
          62.18,
          64.98,
          89.64,
          85.18,
          98.53,
          93.8,
          80.86,
          73.7,
          61.93,
          69.94,
          80.59,
          81.13,
          66.42,
          78.48,
          90.51,
          82.37,
          56.68,
          66.61,
          89.78,
          75.13,
          96.53,
          83.61,
          77.73,
          72.16,
          68.34,
          68.03,
          74.36,
          69.1,
          81.91,
          90.91,
          65.88,
          65.3,
          53.4,
          83.45,
          63.34,
          102.9,
          67.64,
          65.11,
          68.19,
          59.57,
          70.23,
          103.41,
          86.77,
          89.12,
          79.78,
          66.35,
          81.16,
          74.98,
          59.45,
          94.79,
          98.78,
          82.56,
          86.37,
          75.17,
          63.48,
          81.36,
          82.99,
          71.26,
          69.96,
          73.75,
          86.54,
          67.9,
          71.42,
          92.96,
          73.14,
          85.77,
          55.89,
          90.65,
          82.48,
          0,
          93.48,
          92.7,
          92.44,
          97.79,
          5.2,
          76.87,
          90.61,
          82.39,
          65.17,
          67.1,
          59.8,
          68.6,
          69.47,
          89.25,
          70.61,
          90.04,
          60.45,
          76.14,
          100.15,
          56.75,
          96.74,
          79.83,
          80.55,
          96.53,
          55.45,
          78.72,
          100.81,
          85.25,
          82.76,
          53.14,
          64.19,
          87.69,
          84.75,
          87.97,
          82.24,
          90.97,
          70.09,
          80.89,
          77.59,
          60.61,
          83,
          87.14,
          62.77,
          72.35,
          77.44,
          67.91,
          84.39,
          89.71,
          74.17,
          71.53,
          72.85,
          95.33,
          75.37,
          87.58,
          77.18,
          74.76,
          80.73,
          96.49,
          70.28,
          57.27,
          57.78,
          65.26,
          94.38,
          99.18,
          82.02,
          68.83,
          94.33,
          90.78,
          75.12,
          45.02,
          81.33,
          67.9,
          72.09,
          93.2,
          85.44,
          74.81,
          91.19,
          85.23,
          66.42,
          93.2,
          97.67,
          67.28,
          85.51,
          79.19,
          74.98,
          83.06,
          92.18,
          92.1,
          81.32,
          61.25,
          84.98,
          70.35,
          58.95,
          102.35,
          84.99,
          71.06,
          50.77,
          61.14,
          91.35,
          85.05,
          81.11,
          51.31,
          102.14,
          93.72,
          81.44,
          69.14,
          72.79,
          72,
          93.67,
          85.71,
          66.47,
          60.84,
          5.66,
          99.28,
          71.06,
          73.15,
          79.23,
          84.89,
          62.45,
          63.49,
          83.64,
          74.24,
          79.88,
          80.71,
          73.16,
          81.99,
          69.75,
          63.96,
          81.8,
          63.31,
          77.58,
          79.04,
          85.75,
          79.42,
          82.05,
          87.76,
          74.33,
          83.53,
          105.29,
          79.5,
          81.88,
          84.43,
          78.31,
          89.42,
          67.63,
          97.92,
          73.09,
          78.85,
          85.66,
          75.44,
          74.12,
          84.4,
          71.83,
          87.99,
          88.89,
          91.57,
          90.29,
          84.59,
          58.95,
          79.65,
          80.48,
          72.2,
          79.84,
          78.99,
          69.66,
          71.29,
          70.47,
          71.06,
          75.89,
          98.55,
          86.95,
          83.4,
          58.45,
          76.73,
          72.81,
          56.58,
          91.66,
          106.97,
          73.08,
          89.9,
          73.25,
          80.25,
          91.64,
          76.33,
          84.75,
          81.84,
          1.08
         ],
         "xaxis": "x",
         "yaxis": "y"
        }
       ],
       "layout": {
        "bargap": 0.05,
        "barmode": "relative",
        "legend": {
         "tracegroupgap": 0
        },
        "margin": {
         "t": 60
        },
        "showlegend": false,
        "template": {
         "data": {
          "bar": [
           {
            "error_x": {
             "color": "#2a3f5f"
            },
            "error_y": {
             "color": "#2a3f5f"
            },
            "marker": {
             "line": {
              "color": "#E5ECF6",
              "width": 0.5
             },
             "pattern": {
              "fillmode": "overlay",
              "size": 10,
              "solidity": 0.2
             }
            },
            "type": "bar"
           }
          ],
          "barpolar": [
           {
            "marker": {
             "line": {
              "color": "#E5ECF6",
              "width": 0.5
             },
             "pattern": {
              "fillmode": "overlay",
              "size": 10,
              "solidity": 0.2
             }
            },
            "type": "barpolar"
           }
          ],
          "carpet": [
           {
            "aaxis": {
             "endlinecolor": "#2a3f5f",
             "gridcolor": "white",
             "linecolor": "white",
             "minorgridcolor": "white",
             "startlinecolor": "#2a3f5f"
            },
            "baxis": {
             "endlinecolor": "#2a3f5f",
             "gridcolor": "white",
             "linecolor": "white",
             "minorgridcolor": "white",
             "startlinecolor": "#2a3f5f"
            },
            "type": "carpet"
           }
          ],
          "choropleth": [
           {
            "colorbar": {
             "outlinewidth": 0,
             "ticks": ""
            },
            "type": "choropleth"
           }
          ],
          "contour": [
           {
            "colorbar": {
             "outlinewidth": 0,
             "ticks": ""
            },
            "colorscale": [
             [
              0,
              "#0d0887"
             ],
             [
              0.1111111111111111,
              "#46039f"
             ],
             [
              0.2222222222222222,
              "#7201a8"
             ],
             [
              0.3333333333333333,
              "#9c179e"
             ],
             [
              0.4444444444444444,
              "#bd3786"
             ],
             [
              0.5555555555555556,
              "#d8576b"
             ],
             [
              0.6666666666666666,
              "#ed7953"
             ],
             [
              0.7777777777777778,
              "#fb9f3a"
             ],
             [
              0.8888888888888888,
              "#fdca26"
             ],
             [
              1,
              "#f0f921"
             ]
            ],
            "type": "contour"
           }
          ],
          "contourcarpet": [
           {
            "colorbar": {
             "outlinewidth": 0,
             "ticks": ""
            },
            "type": "contourcarpet"
           }
          ],
          "heatmap": [
           {
            "colorbar": {
             "outlinewidth": 0,
             "ticks": ""
            },
            "colorscale": [
             [
              0,
              "#0d0887"
             ],
             [
              0.1111111111111111,
              "#46039f"
             ],
             [
              0.2222222222222222,
              "#7201a8"
             ],
             [
              0.3333333333333333,
              "#9c179e"
             ],
             [
              0.4444444444444444,
              "#bd3786"
             ],
             [
              0.5555555555555556,
              "#d8576b"
             ],
             [
              0.6666666666666666,
              "#ed7953"
             ],
             [
              0.7777777777777778,
              "#fb9f3a"
             ],
             [
              0.8888888888888888,
              "#fdca26"
             ],
             [
              1,
              "#f0f921"
             ]
            ],
            "type": "heatmap"
           }
          ],
          "heatmapgl": [
           {
            "colorbar": {
             "outlinewidth": 0,
             "ticks": ""
            },
            "colorscale": [
             [
              0,
              "#0d0887"
             ],
             [
              0.1111111111111111,
              "#46039f"
             ],
             [
              0.2222222222222222,
              "#7201a8"
             ],
             [
              0.3333333333333333,
              "#9c179e"
             ],
             [
              0.4444444444444444,
              "#bd3786"
             ],
             [
              0.5555555555555556,
              "#d8576b"
             ],
             [
              0.6666666666666666,
              "#ed7953"
             ],
             [
              0.7777777777777778,
              "#fb9f3a"
             ],
             [
              0.8888888888888888,
              "#fdca26"
             ],
             [
              1,
              "#f0f921"
             ]
            ],
            "type": "heatmapgl"
           }
          ],
          "histogram": [
           {
            "marker": {
             "pattern": {
              "fillmode": "overlay",
              "size": 10,
              "solidity": 0.2
             }
            },
            "type": "histogram"
           }
          ],
          "histogram2d": [
           {
            "colorbar": {
             "outlinewidth": 0,
             "ticks": ""
            },
            "colorscale": [
             [
              0,
              "#0d0887"
             ],
             [
              0.1111111111111111,
              "#46039f"
             ],
             [
              0.2222222222222222,
              "#7201a8"
             ],
             [
              0.3333333333333333,
              "#9c179e"
             ],
             [
              0.4444444444444444,
              "#bd3786"
             ],
             [
              0.5555555555555556,
              "#d8576b"
             ],
             [
              0.6666666666666666,
              "#ed7953"
             ],
             [
              0.7777777777777778,
              "#fb9f3a"
             ],
             [
              0.8888888888888888,
              "#fdca26"
             ],
             [
              1,
              "#f0f921"
             ]
            ],
            "type": "histogram2d"
           }
          ],
          "histogram2dcontour": [
           {
            "colorbar": {
             "outlinewidth": 0,
             "ticks": ""
            },
            "colorscale": [
             [
              0,
              "#0d0887"
             ],
             [
              0.1111111111111111,
              "#46039f"
             ],
             [
              0.2222222222222222,
              "#7201a8"
             ],
             [
              0.3333333333333333,
              "#9c179e"
             ],
             [
              0.4444444444444444,
              "#bd3786"
             ],
             [
              0.5555555555555556,
              "#d8576b"
             ],
             [
              0.6666666666666666,
              "#ed7953"
             ],
             [
              0.7777777777777778,
              "#fb9f3a"
             ],
             [
              0.8888888888888888,
              "#fdca26"
             ],
             [
              1,
              "#f0f921"
             ]
            ],
            "type": "histogram2dcontour"
           }
          ],
          "mesh3d": [
           {
            "colorbar": {
             "outlinewidth": 0,
             "ticks": ""
            },
            "type": "mesh3d"
           }
          ],
          "parcoords": [
           {
            "line": {
             "colorbar": {
              "outlinewidth": 0,
              "ticks": ""
             }
            },
            "type": "parcoords"
           }
          ],
          "pie": [
           {
            "automargin": true,
            "type": "pie"
           }
          ],
          "scatter": [
           {
            "fillpattern": {
             "fillmode": "overlay",
             "size": 10,
             "solidity": 0.2
            },
            "type": "scatter"
           }
          ],
          "scatter3d": [
           {
            "line": {
             "colorbar": {
              "outlinewidth": 0,
              "ticks": ""
             }
            },
            "marker": {
             "colorbar": {
              "outlinewidth": 0,
              "ticks": ""
             }
            },
            "type": "scatter3d"
           }
          ],
          "scattercarpet": [
           {
            "marker": {
             "colorbar": {
              "outlinewidth": 0,
              "ticks": ""
             }
            },
            "type": "scattercarpet"
           }
          ],
          "scattergeo": [
           {
            "marker": {
             "colorbar": {
              "outlinewidth": 0,
              "ticks": ""
             }
            },
            "type": "scattergeo"
           }
          ],
          "scattergl": [
           {
            "marker": {
             "colorbar": {
              "outlinewidth": 0,
              "ticks": ""
             }
            },
            "type": "scattergl"
           }
          ],
          "scattermapbox": [
           {
            "marker": {
             "colorbar": {
              "outlinewidth": 0,
              "ticks": ""
             }
            },
            "type": "scattermapbox"
           }
          ],
          "scatterpolar": [
           {
            "marker": {
             "colorbar": {
              "outlinewidth": 0,
              "ticks": ""
             }
            },
            "type": "scatterpolar"
           }
          ],
          "scatterpolargl": [
           {
            "marker": {
             "colorbar": {
              "outlinewidth": 0,
              "ticks": ""
             }
            },
            "type": "scatterpolargl"
           }
          ],
          "scatterternary": [
           {
            "marker": {
             "colorbar": {
              "outlinewidth": 0,
              "ticks": ""
             }
            },
            "type": "scatterternary"
           }
          ],
          "surface": [
           {
            "colorbar": {
             "outlinewidth": 0,
             "ticks": ""
            },
            "colorscale": [
             [
              0,
              "#0d0887"
             ],
             [
              0.1111111111111111,
              "#46039f"
             ],
             [
              0.2222222222222222,
              "#7201a8"
             ],
             [
              0.3333333333333333,
              "#9c179e"
             ],
             [
              0.4444444444444444,
              "#bd3786"
             ],
             [
              0.5555555555555556,
              "#d8576b"
             ],
             [
              0.6666666666666666,
              "#ed7953"
             ],
             [
              0.7777777777777778,
              "#fb9f3a"
             ],
             [
              0.8888888888888888,
              "#fdca26"
             ],
             [
              1,
              "#f0f921"
             ]
            ],
            "type": "surface"
           }
          ],
          "table": [
           {
            "cells": {
             "fill": {
              "color": "#EBF0F8"
             },
             "line": {
              "color": "white"
             }
            },
            "header": {
             "fill": {
              "color": "#C8D4E3"
             },
             "line": {
              "color": "white"
             }
            },
            "type": "table"
           }
          ]
         },
         "layout": {
          "annotationdefaults": {
           "arrowcolor": "#2a3f5f",
           "arrowhead": 0,
           "arrowwidth": 1
          },
          "autotypenumbers": "strict",
          "coloraxis": {
           "colorbar": {
            "outlinewidth": 0,
            "ticks": ""
           }
          },
          "colorscale": {
           "diverging": [
            [
             0,
             "#8e0152"
            ],
            [
             0.1,
             "#c51b7d"
            ],
            [
             0.2,
             "#de77ae"
            ],
            [
             0.3,
             "#f1b6da"
            ],
            [
             0.4,
             "#fde0ef"
            ],
            [
             0.5,
             "#f7f7f7"
            ],
            [
             0.6,
             "#e6f5d0"
            ],
            [
             0.7,
             "#b8e186"
            ],
            [
             0.8,
             "#7fbc41"
            ],
            [
             0.9,
             "#4d9221"
            ],
            [
             1,
             "#276419"
            ]
           ],
           "sequential": [
            [
             0,
             "#0d0887"
            ],
            [
             0.1111111111111111,
             "#46039f"
            ],
            [
             0.2222222222222222,
             "#7201a8"
            ],
            [
             0.3333333333333333,
             "#9c179e"
            ],
            [
             0.4444444444444444,
             "#bd3786"
            ],
            [
             0.5555555555555556,
             "#d8576b"
            ],
            [
             0.6666666666666666,
             "#ed7953"
            ],
            [
             0.7777777777777778,
             "#fb9f3a"
            ],
            [
             0.8888888888888888,
             "#fdca26"
            ],
            [
             1,
             "#f0f921"
            ]
           ],
           "sequentialminus": [
            [
             0,
             "#0d0887"
            ],
            [
             0.1111111111111111,
             "#46039f"
            ],
            [
             0.2222222222222222,
             "#7201a8"
            ],
            [
             0.3333333333333333,
             "#9c179e"
            ],
            [
             0.4444444444444444,
             "#bd3786"
            ],
            [
             0.5555555555555556,
             "#d8576b"
            ],
            [
             0.6666666666666666,
             "#ed7953"
            ],
            [
             0.7777777777777778,
             "#fb9f3a"
            ],
            [
             0.8888888888888888,
             "#fdca26"
            ],
            [
             1,
             "#f0f921"
            ]
           ]
          },
          "colorway": [
           "#636efa",
           "#EF553B",
           "#00cc96",
           "#ab63fa",
           "#FFA15A",
           "#19d3f3",
           "#FF6692",
           "#B6E880",
           "#FF97FF",
           "#FECB52"
          ],
          "font": {
           "color": "#2a3f5f"
          },
          "geo": {
           "bgcolor": "white",
           "lakecolor": "white",
           "landcolor": "#E5ECF6",
           "showlakes": true,
           "showland": true,
           "subunitcolor": "white"
          },
          "hoverlabel": {
           "align": "left"
          },
          "hovermode": "closest",
          "mapbox": {
           "style": "light"
          },
          "paper_bgcolor": "white",
          "plot_bgcolor": "#E5ECF6",
          "polar": {
           "angularaxis": {
            "gridcolor": "white",
            "linecolor": "white",
            "ticks": ""
           },
           "bgcolor": "#E5ECF6",
           "radialaxis": {
            "gridcolor": "white",
            "linecolor": "white",
            "ticks": ""
           }
          },
          "scene": {
           "xaxis": {
            "backgroundcolor": "#E5ECF6",
            "gridcolor": "white",
            "gridwidth": 2,
            "linecolor": "white",
            "showbackground": true,
            "ticks": "",
            "zerolinecolor": "white"
           },
           "yaxis": {
            "backgroundcolor": "#E5ECF6",
            "gridcolor": "white",
            "gridwidth": 2,
            "linecolor": "white",
            "showbackground": true,
            "ticks": "",
            "zerolinecolor": "white"
           },
           "zaxis": {
            "backgroundcolor": "#E5ECF6",
            "gridcolor": "white",
            "gridwidth": 2,
            "linecolor": "white",
            "showbackground": true,
            "ticks": "",
            "zerolinecolor": "white"
           }
          },
          "shapedefaults": {
           "line": {
            "color": "#2a3f5f"
           }
          },
          "ternary": {
           "aaxis": {
            "gridcolor": "white",
            "linecolor": "white",
            "ticks": ""
           },
           "baxis": {
            "gridcolor": "white",
            "linecolor": "white",
            "ticks": ""
           },
           "bgcolor": "#E5ECF6",
           "caxis": {
            "gridcolor": "white",
            "linecolor": "white",
            "ticks": ""
           }
          },
          "title": {
           "x": 0.05
          },
          "xaxis": {
           "automargin": true,
           "gridcolor": "white",
           "linecolor": "white",
           "ticks": "",
           "title": {
            "standoff": 15
           },
           "zerolinecolor": "white",
           "zerolinewidth": 2
          },
          "yaxis": {
           "automargin": true,
           "gridcolor": "white",
           "linecolor": "white",
           "ticks": "",
           "title": {
            "standoff": 15
           },
           "zerolinecolor": "white",
           "zerolinewidth": 2
          }
         }
        },
        "xaxis": {
         "anchor": "y",
         "domain": [
          0,
          1
         ],
         "dtick": 10,
         "range": [
          10,
          100
         ],
         "showgrid": true,
         "tick0": 10,
         "title": {
          "text": "Unposted Final Score"
         }
        },
        "yaxis": {
         "anchor": "x",
         "domain": [
          0,
          1
         ],
         "title": {
          "text": "count"
         }
        }
       }
      }
     },
     "metadata": {},
     "output_type": "display_data"
    }
   ],
   "source": [
    "# Path to canvas CSV file that includes updated roster\n",
    "cn_path = os.path.join(root,'grades', gradebook_file + \".csv\")\n",
    "\n",
    "# Check path\n",
    "if not os.path.isfile(cn_path):\n",
    "    raise ValueError(gradebook_file + '.csv file not found')\n",
    "\n",
    "# Open and read canvas data\n",
    "cn_file = open(cn_path)\n",
    "c = pd.read_csv(cn_file,skiprows=[1, 2])\n",
    "\n",
    "# From the canvas file, capture student IDs\n",
    "# cnID = c.xs(\"SIS Login ID\",axis=1)\n",
    "\n",
    "# From the canvas file, final score, trim header\n",
    "cnScore = c.xs(\"Unposted Final Score\",axis=1)\n",
    "\n",
    "# Plot raw score distribution\n",
    "# fig = px.histogram(cnScore, labels={\"value\"=\"Final score\"})\n",
    "fig = px.histogram(cnScore, x=\"Unposted Final Score\", nbins = 100)\n",
    "fig.layout.update(showlegend=False,bargap=0.05)\n",
    "fig.update_xaxes(range=[10, 100], tick0=10, dtick=10, showgrid=True)\n",
    "fig.show()"
   ]
  },
  {
   "cell_type": "markdown",
   "metadata": {
    "pycharm": {
     "name": "#%% md\n"
    }
   },
   "source": []
  },
  {
   "cell_type": "markdown",
   "metadata": {
    "pycharm": {
     "name": "#%% md\n"
    }
   },
   "source": [
    "# Calculate cutoffs\n",
    "Under the course settings in Canvas, input the grade cut-offs by clicking on 'Enable course grading scheme' and then inputting the values by clicking on 'view grading scheme'."
   ]
  },
  {
   "cell_type": "code",
   "execution_count": 13,
   "metadata": {
    "collapsed": false,
    "pycharm": {
     "name": "#%%\n"
    }
   },
   "outputs": [
    {
     "name": "stdout",
     "output_type": "stream",
     "text": [
      "   Grades  Cutoff\n",
      "0      A+  102.52\n",
      "1       A   93.62\n",
      "2      A-   89.17\n",
      "3      B+   85.52\n",
      "4       B   78.22\n",
      "5      B-   74.56\n",
      "6      C+   70.18\n",
      "7       C   61.42\n",
      "8      C-   57.04\n",
      "9      D+   54.12\n",
      "10      D   48.27\n",
      "11     D-   45.35\n",
      "12      F    0.00\n"
     ]
    },
    {
     "data": {
      "application/vnd.plotly.v1+json": {
       "config": {
        "plotlyServerURL": "https://plot.ly"
       },
       "data": [
        {
         "alignmentgroup": "True",
         "bingroup": "x",
         "hovertemplate": "Unposted Final Score=%{x}<br>count=%{y}<extra></extra>",
         "legendgroup": "",
         "marker": {
          "color": "#636efa",
          "pattern": {
           "shape": ""
          }
         },
         "name": "",
         "nbinsx": 100,
         "offsetgroup": "",
         "orientation": "v",
         "showlegend": false,
         "type": "histogram",
         "x": [
          75.21,
          96.16,
          82.02,
          90.44,
          77.42,
          97.25,
          82.53,
          71.83,
          92.25,
          82.24,
          85.06,
          81.35,
          63.99,
          85.26,
          87.8,
          81.44,
          76.49,
          69.18,
          74.1,
          81.01,
          89.6,
          92.72,
          61.11,
          73.46,
          66.62,
          90.69,
          83.41,
          62.2,
          84.65,
          90.75,
          72.48,
          81.45,
          74.78,
          72.19,
          62.23,
          73.02,
          66.28,
          54.54,
          63.57,
          85.52,
          62.18,
          64.98,
          89.64,
          85.18,
          98.53,
          93.8,
          80.86,
          73.7,
          61.93,
          69.94,
          80.59,
          81.13,
          66.42,
          78.48,
          90.51,
          82.37,
          56.68,
          66.61,
          89.78,
          75.13,
          96.53,
          83.61,
          77.73,
          72.16,
          68.34,
          68.03,
          74.36,
          69.1,
          81.91,
          90.91,
          65.88,
          65.3,
          53.4,
          83.45,
          63.34,
          102.9,
          67.64,
          65.11,
          68.19,
          59.57,
          70.23,
          103.41,
          86.77,
          89.12,
          79.78,
          66.35,
          81.16,
          74.98,
          59.45,
          94.79,
          98.78,
          82.56,
          86.37,
          75.17,
          63.48,
          81.36,
          82.99,
          71.26,
          69.96,
          73.75,
          86.54,
          67.9,
          71.42,
          92.96,
          73.14,
          85.77,
          55.89,
          90.65,
          82.48,
          0,
          93.48,
          92.7,
          92.44,
          97.79,
          5.2,
          76.87,
          90.61,
          82.39,
          65.17,
          67.1,
          59.8,
          68.6,
          69.47,
          89.25,
          70.61,
          90.04,
          60.45,
          76.14,
          100.15,
          56.75,
          96.74,
          79.83,
          80.55,
          96.53,
          55.45,
          78.72,
          100.81,
          85.25,
          82.76,
          53.14,
          64.19,
          87.69,
          84.75,
          87.97,
          82.24,
          90.97,
          70.09,
          80.89,
          77.59,
          60.61,
          83,
          87.14,
          62.77,
          72.35,
          77.44,
          67.91,
          84.39,
          89.71,
          74.17,
          71.53,
          72.85,
          95.33,
          75.37,
          87.58,
          77.18,
          74.76,
          80.73,
          96.49,
          70.28,
          57.27,
          57.78,
          65.26,
          94.38,
          99.18,
          82.02,
          68.83,
          94.33,
          90.78,
          75.12,
          45.02,
          81.33,
          67.9,
          72.09,
          93.2,
          85.44,
          74.81,
          91.19,
          85.23,
          66.42,
          93.2,
          97.67,
          67.28,
          85.51,
          79.19,
          74.98,
          83.06,
          92.18,
          92.1,
          81.32,
          61.25,
          84.98,
          70.35,
          58.95,
          102.35,
          84.99,
          71.06,
          50.77,
          61.14,
          91.35,
          85.05,
          81.11,
          51.31,
          102.14,
          93.72,
          81.44,
          69.14,
          72.79,
          72,
          93.67,
          85.71,
          66.47,
          60.84,
          5.66,
          99.28,
          71.06,
          73.15,
          79.23,
          84.89,
          62.45,
          63.49,
          83.64,
          74.24,
          79.88,
          80.71,
          73.16,
          81.99,
          69.75,
          63.96,
          81.8,
          63.31,
          77.58,
          79.04,
          85.75,
          79.42,
          82.05,
          87.76,
          74.33,
          83.53,
          105.29,
          79.5,
          81.88,
          84.43,
          78.31,
          89.42,
          67.63,
          97.92,
          73.09,
          78.85,
          85.66,
          75.44,
          74.12,
          84.4,
          71.83,
          87.99,
          88.89,
          91.57,
          90.29,
          84.59,
          58.95,
          79.65,
          80.48,
          72.2,
          79.84,
          78.99,
          69.66,
          71.29,
          70.47,
          71.06,
          75.89,
          98.55,
          86.95,
          83.4,
          58.45,
          76.73,
          72.81,
          56.58,
          91.66,
          106.97,
          73.08,
          89.9,
          73.25,
          80.25,
          91.64,
          76.33,
          84.75,
          81.84,
          1.08
         ],
         "xaxis": "x",
         "yaxis": "y"
        }
       ],
       "layout": {
        "bargap": 0.05,
        "barmode": "relative",
        "legend": {
         "tracegroupgap": 0
        },
        "margin": {
         "t": 60
        },
        "shapes": [
         {
          "line": {
           "color": "gray",
           "dash": "dash"
          },
          "type": "line",
          "x0": 102.52,
          "x1": 102.52,
          "xref": "x",
          "y0": 0,
          "y1": 1,
          "yref": "y domain"
         },
         {
          "line": {
           "color": "gray",
           "dash": "dash"
          },
          "type": "line",
          "x0": 93.62,
          "x1": 93.62,
          "xref": "x",
          "y0": 0,
          "y1": 1,
          "yref": "y domain"
         },
         {
          "line": {
           "color": "gray",
           "dash": "dash"
          },
          "type": "line",
          "x0": 89.17,
          "x1": 89.17,
          "xref": "x",
          "y0": 0,
          "y1": 1,
          "yref": "y domain"
         },
         {
          "line": {
           "color": "gray",
           "dash": "dash"
          },
          "type": "line",
          "x0": 85.52,
          "x1": 85.52,
          "xref": "x",
          "y0": 0,
          "y1": 1,
          "yref": "y domain"
         },
         {
          "line": {
           "color": "gray",
           "dash": "dash"
          },
          "type": "line",
          "x0": 78.22,
          "x1": 78.22,
          "xref": "x",
          "y0": 0,
          "y1": 1,
          "yref": "y domain"
         },
         {
          "line": {
           "color": "gray",
           "dash": "dash"
          },
          "type": "line",
          "x0": 74.56,
          "x1": 74.56,
          "xref": "x",
          "y0": 0,
          "y1": 1,
          "yref": "y domain"
         },
         {
          "line": {
           "color": "gray",
           "dash": "dash"
          },
          "type": "line",
          "x0": 70.18,
          "x1": 70.18,
          "xref": "x",
          "y0": 0,
          "y1": 1,
          "yref": "y domain"
         },
         {
          "line": {
           "color": "gray",
           "dash": "dash"
          },
          "type": "line",
          "x0": 61.42,
          "x1": 61.42,
          "xref": "x",
          "y0": 0,
          "y1": 1,
          "yref": "y domain"
         },
         {
          "line": {
           "color": "gray",
           "dash": "dash"
          },
          "type": "line",
          "x0": 57.04,
          "x1": 57.04,
          "xref": "x",
          "y0": 0,
          "y1": 1,
          "yref": "y domain"
         },
         {
          "line": {
           "color": "gray",
           "dash": "dash"
          },
          "type": "line",
          "x0": 54.12,
          "x1": 54.12,
          "xref": "x",
          "y0": 0,
          "y1": 1,
          "yref": "y domain"
         },
         {
          "line": {
           "color": "gray",
           "dash": "dash"
          },
          "type": "line",
          "x0": 48.27,
          "x1": 48.27,
          "xref": "x",
          "y0": 0,
          "y1": 1,
          "yref": "y domain"
         },
         {
          "line": {
           "color": "gray",
           "dash": "dash"
          },
          "type": "line",
          "x0": 45.35,
          "x1": 45.35,
          "xref": "x",
          "y0": 0,
          "y1": 1,
          "yref": "y domain"
         },
         {
          "line": {
           "color": "gray",
           "dash": "dash"
          },
          "type": "line",
          "x0": 0,
          "x1": 0,
          "xref": "x",
          "y0": 0,
          "y1": 1,
          "yref": "y domain"
         },
         {
          "line": {
           "color": "white"
          },
          "type": "line",
          "x0": 100,
          "x1": 100,
          "xref": "x",
          "y0": 0,
          "y1": 1,
          "yref": "y domain"
         },
         {
          "line": {
           "color": "white"
          },
          "type": "line",
          "x0": 89.16963120240621,
          "x1": 89.16963120240621,
          "xref": "x",
          "y0": 0,
          "y1": 1,
          "yref": "y domain"
         },
         {
          "line": {
           "color": "white"
          },
          "type": "line",
          "x0": 74.56361071791709,
          "x1": 74.56361071791709,
          "xref": "x",
          "y0": 0,
          "y1": 1,
          "yref": "y domain"
         },
         {
          "line": {
           "color": "white"
          },
          "type": "line",
          "x0": 57.03638613653014,
          "x1": 57.03638613653014,
          "xref": "x",
          "y0": 0,
          "y1": 1,
          "yref": "y domain"
         },
         {
          "line": {
           "color": "white"
          },
          "type": "line",
          "x0": 45.351569748938836,
          "x1": 45.351569748938836,
          "xref": "x",
          "y0": 0,
          "y1": 1,
          "yref": "y domain"
         }
        ],
        "showlegend": false,
        "template": {
         "data": {
          "bar": [
           {
            "error_x": {
             "color": "#2a3f5f"
            },
            "error_y": {
             "color": "#2a3f5f"
            },
            "marker": {
             "line": {
              "color": "#E5ECF6",
              "width": 0.5
             },
             "pattern": {
              "fillmode": "overlay",
              "size": 10,
              "solidity": 0.2
             }
            },
            "type": "bar"
           }
          ],
          "barpolar": [
           {
            "marker": {
             "line": {
              "color": "#E5ECF6",
              "width": 0.5
             },
             "pattern": {
              "fillmode": "overlay",
              "size": 10,
              "solidity": 0.2
             }
            },
            "type": "barpolar"
           }
          ],
          "carpet": [
           {
            "aaxis": {
             "endlinecolor": "#2a3f5f",
             "gridcolor": "white",
             "linecolor": "white",
             "minorgridcolor": "white",
             "startlinecolor": "#2a3f5f"
            },
            "baxis": {
             "endlinecolor": "#2a3f5f",
             "gridcolor": "white",
             "linecolor": "white",
             "minorgridcolor": "white",
             "startlinecolor": "#2a3f5f"
            },
            "type": "carpet"
           }
          ],
          "choropleth": [
           {
            "colorbar": {
             "outlinewidth": 0,
             "ticks": ""
            },
            "type": "choropleth"
           }
          ],
          "contour": [
           {
            "colorbar": {
             "outlinewidth": 0,
             "ticks": ""
            },
            "colorscale": [
             [
              0,
              "#0d0887"
             ],
             [
              0.1111111111111111,
              "#46039f"
             ],
             [
              0.2222222222222222,
              "#7201a8"
             ],
             [
              0.3333333333333333,
              "#9c179e"
             ],
             [
              0.4444444444444444,
              "#bd3786"
             ],
             [
              0.5555555555555556,
              "#d8576b"
             ],
             [
              0.6666666666666666,
              "#ed7953"
             ],
             [
              0.7777777777777778,
              "#fb9f3a"
             ],
             [
              0.8888888888888888,
              "#fdca26"
             ],
             [
              1,
              "#f0f921"
             ]
            ],
            "type": "contour"
           }
          ],
          "contourcarpet": [
           {
            "colorbar": {
             "outlinewidth": 0,
             "ticks": ""
            },
            "type": "contourcarpet"
           }
          ],
          "heatmap": [
           {
            "colorbar": {
             "outlinewidth": 0,
             "ticks": ""
            },
            "colorscale": [
             [
              0,
              "#0d0887"
             ],
             [
              0.1111111111111111,
              "#46039f"
             ],
             [
              0.2222222222222222,
              "#7201a8"
             ],
             [
              0.3333333333333333,
              "#9c179e"
             ],
             [
              0.4444444444444444,
              "#bd3786"
             ],
             [
              0.5555555555555556,
              "#d8576b"
             ],
             [
              0.6666666666666666,
              "#ed7953"
             ],
             [
              0.7777777777777778,
              "#fb9f3a"
             ],
             [
              0.8888888888888888,
              "#fdca26"
             ],
             [
              1,
              "#f0f921"
             ]
            ],
            "type": "heatmap"
           }
          ],
          "heatmapgl": [
           {
            "colorbar": {
             "outlinewidth": 0,
             "ticks": ""
            },
            "colorscale": [
             [
              0,
              "#0d0887"
             ],
             [
              0.1111111111111111,
              "#46039f"
             ],
             [
              0.2222222222222222,
              "#7201a8"
             ],
             [
              0.3333333333333333,
              "#9c179e"
             ],
             [
              0.4444444444444444,
              "#bd3786"
             ],
             [
              0.5555555555555556,
              "#d8576b"
             ],
             [
              0.6666666666666666,
              "#ed7953"
             ],
             [
              0.7777777777777778,
              "#fb9f3a"
             ],
             [
              0.8888888888888888,
              "#fdca26"
             ],
             [
              1,
              "#f0f921"
             ]
            ],
            "type": "heatmapgl"
           }
          ],
          "histogram": [
           {
            "marker": {
             "pattern": {
              "fillmode": "overlay",
              "size": 10,
              "solidity": 0.2
             }
            },
            "type": "histogram"
           }
          ],
          "histogram2d": [
           {
            "colorbar": {
             "outlinewidth": 0,
             "ticks": ""
            },
            "colorscale": [
             [
              0,
              "#0d0887"
             ],
             [
              0.1111111111111111,
              "#46039f"
             ],
             [
              0.2222222222222222,
              "#7201a8"
             ],
             [
              0.3333333333333333,
              "#9c179e"
             ],
             [
              0.4444444444444444,
              "#bd3786"
             ],
             [
              0.5555555555555556,
              "#d8576b"
             ],
             [
              0.6666666666666666,
              "#ed7953"
             ],
             [
              0.7777777777777778,
              "#fb9f3a"
             ],
             [
              0.8888888888888888,
              "#fdca26"
             ],
             [
              1,
              "#f0f921"
             ]
            ],
            "type": "histogram2d"
           }
          ],
          "histogram2dcontour": [
           {
            "colorbar": {
             "outlinewidth": 0,
             "ticks": ""
            },
            "colorscale": [
             [
              0,
              "#0d0887"
             ],
             [
              0.1111111111111111,
              "#46039f"
             ],
             [
              0.2222222222222222,
              "#7201a8"
             ],
             [
              0.3333333333333333,
              "#9c179e"
             ],
             [
              0.4444444444444444,
              "#bd3786"
             ],
             [
              0.5555555555555556,
              "#d8576b"
             ],
             [
              0.6666666666666666,
              "#ed7953"
             ],
             [
              0.7777777777777778,
              "#fb9f3a"
             ],
             [
              0.8888888888888888,
              "#fdca26"
             ],
             [
              1,
              "#f0f921"
             ]
            ],
            "type": "histogram2dcontour"
           }
          ],
          "mesh3d": [
           {
            "colorbar": {
             "outlinewidth": 0,
             "ticks": ""
            },
            "type": "mesh3d"
           }
          ],
          "parcoords": [
           {
            "line": {
             "colorbar": {
              "outlinewidth": 0,
              "ticks": ""
             }
            },
            "type": "parcoords"
           }
          ],
          "pie": [
           {
            "automargin": true,
            "type": "pie"
           }
          ],
          "scatter": [
           {
            "fillpattern": {
             "fillmode": "overlay",
             "size": 10,
             "solidity": 0.2
            },
            "type": "scatter"
           }
          ],
          "scatter3d": [
           {
            "line": {
             "colorbar": {
              "outlinewidth": 0,
              "ticks": ""
             }
            },
            "marker": {
             "colorbar": {
              "outlinewidth": 0,
              "ticks": ""
             }
            },
            "type": "scatter3d"
           }
          ],
          "scattercarpet": [
           {
            "marker": {
             "colorbar": {
              "outlinewidth": 0,
              "ticks": ""
             }
            },
            "type": "scattercarpet"
           }
          ],
          "scattergeo": [
           {
            "marker": {
             "colorbar": {
              "outlinewidth": 0,
              "ticks": ""
             }
            },
            "type": "scattergeo"
           }
          ],
          "scattergl": [
           {
            "marker": {
             "colorbar": {
              "outlinewidth": 0,
              "ticks": ""
             }
            },
            "type": "scattergl"
           }
          ],
          "scattermapbox": [
           {
            "marker": {
             "colorbar": {
              "outlinewidth": 0,
              "ticks": ""
             }
            },
            "type": "scattermapbox"
           }
          ],
          "scatterpolar": [
           {
            "marker": {
             "colorbar": {
              "outlinewidth": 0,
              "ticks": ""
             }
            },
            "type": "scatterpolar"
           }
          ],
          "scatterpolargl": [
           {
            "marker": {
             "colorbar": {
              "outlinewidth": 0,
              "ticks": ""
             }
            },
            "type": "scatterpolargl"
           }
          ],
          "scatterternary": [
           {
            "marker": {
             "colorbar": {
              "outlinewidth": 0,
              "ticks": ""
             }
            },
            "type": "scatterternary"
           }
          ],
          "surface": [
           {
            "colorbar": {
             "outlinewidth": 0,
             "ticks": ""
            },
            "colorscale": [
             [
              0,
              "#0d0887"
             ],
             [
              0.1111111111111111,
              "#46039f"
             ],
             [
              0.2222222222222222,
              "#7201a8"
             ],
             [
              0.3333333333333333,
              "#9c179e"
             ],
             [
              0.4444444444444444,
              "#bd3786"
             ],
             [
              0.5555555555555556,
              "#d8576b"
             ],
             [
              0.6666666666666666,
              "#ed7953"
             ],
             [
              0.7777777777777778,
              "#fb9f3a"
             ],
             [
              0.8888888888888888,
              "#fdca26"
             ],
             [
              1,
              "#f0f921"
             ]
            ],
            "type": "surface"
           }
          ],
          "table": [
           {
            "cells": {
             "fill": {
              "color": "#EBF0F8"
             },
             "line": {
              "color": "white"
             }
            },
            "header": {
             "fill": {
              "color": "#C8D4E3"
             },
             "line": {
              "color": "white"
             }
            },
            "type": "table"
           }
          ]
         },
         "layout": {
          "annotationdefaults": {
           "arrowcolor": "#2a3f5f",
           "arrowhead": 0,
           "arrowwidth": 1
          },
          "autotypenumbers": "strict",
          "coloraxis": {
           "colorbar": {
            "outlinewidth": 0,
            "ticks": ""
           }
          },
          "colorscale": {
           "diverging": [
            [
             0,
             "#8e0152"
            ],
            [
             0.1,
             "#c51b7d"
            ],
            [
             0.2,
             "#de77ae"
            ],
            [
             0.3,
             "#f1b6da"
            ],
            [
             0.4,
             "#fde0ef"
            ],
            [
             0.5,
             "#f7f7f7"
            ],
            [
             0.6,
             "#e6f5d0"
            ],
            [
             0.7,
             "#b8e186"
            ],
            [
             0.8,
             "#7fbc41"
            ],
            [
             0.9,
             "#4d9221"
            ],
            [
             1,
             "#276419"
            ]
           ],
           "sequential": [
            [
             0,
             "#0d0887"
            ],
            [
             0.1111111111111111,
             "#46039f"
            ],
            [
             0.2222222222222222,
             "#7201a8"
            ],
            [
             0.3333333333333333,
             "#9c179e"
            ],
            [
             0.4444444444444444,
             "#bd3786"
            ],
            [
             0.5555555555555556,
             "#d8576b"
            ],
            [
             0.6666666666666666,
             "#ed7953"
            ],
            [
             0.7777777777777778,
             "#fb9f3a"
            ],
            [
             0.8888888888888888,
             "#fdca26"
            ],
            [
             1,
             "#f0f921"
            ]
           ],
           "sequentialminus": [
            [
             0,
             "#0d0887"
            ],
            [
             0.1111111111111111,
             "#46039f"
            ],
            [
             0.2222222222222222,
             "#7201a8"
            ],
            [
             0.3333333333333333,
             "#9c179e"
            ],
            [
             0.4444444444444444,
             "#bd3786"
            ],
            [
             0.5555555555555556,
             "#d8576b"
            ],
            [
             0.6666666666666666,
             "#ed7953"
            ],
            [
             0.7777777777777778,
             "#fb9f3a"
            ],
            [
             0.8888888888888888,
             "#fdca26"
            ],
            [
             1,
             "#f0f921"
            ]
           ]
          },
          "colorway": [
           "#636efa",
           "#EF553B",
           "#00cc96",
           "#ab63fa",
           "#FFA15A",
           "#19d3f3",
           "#FF6692",
           "#B6E880",
           "#FF97FF",
           "#FECB52"
          ],
          "font": {
           "color": "#2a3f5f"
          },
          "geo": {
           "bgcolor": "white",
           "lakecolor": "white",
           "landcolor": "#E5ECF6",
           "showlakes": true,
           "showland": true,
           "subunitcolor": "white"
          },
          "hoverlabel": {
           "align": "left"
          },
          "hovermode": "closest",
          "mapbox": {
           "style": "light"
          },
          "paper_bgcolor": "white",
          "plot_bgcolor": "#E5ECF6",
          "polar": {
           "angularaxis": {
            "gridcolor": "white",
            "linecolor": "white",
            "ticks": ""
           },
           "bgcolor": "#E5ECF6",
           "radialaxis": {
            "gridcolor": "white",
            "linecolor": "white",
            "ticks": ""
           }
          },
          "scene": {
           "xaxis": {
            "backgroundcolor": "#E5ECF6",
            "gridcolor": "white",
            "gridwidth": 2,
            "linecolor": "white",
            "showbackground": true,
            "ticks": "",
            "zerolinecolor": "white"
           },
           "yaxis": {
            "backgroundcolor": "#E5ECF6",
            "gridcolor": "white",
            "gridwidth": 2,
            "linecolor": "white",
            "showbackground": true,
            "ticks": "",
            "zerolinecolor": "white"
           },
           "zaxis": {
            "backgroundcolor": "#E5ECF6",
            "gridcolor": "white",
            "gridwidth": 2,
            "linecolor": "white",
            "showbackground": true,
            "ticks": "",
            "zerolinecolor": "white"
           }
          },
          "shapedefaults": {
           "line": {
            "color": "#2a3f5f"
           }
          },
          "ternary": {
           "aaxis": {
            "gridcolor": "white",
            "linecolor": "white",
            "ticks": ""
           },
           "baxis": {
            "gridcolor": "white",
            "linecolor": "white",
            "ticks": ""
           },
           "bgcolor": "#E5ECF6",
           "caxis": {
            "gridcolor": "white",
            "linecolor": "white",
            "ticks": ""
           }
          },
          "title": {
           "x": 0.05
          },
          "xaxis": {
           "automargin": true,
           "gridcolor": "white",
           "linecolor": "white",
           "ticks": "",
           "title": {
            "standoff": 15
           },
           "zerolinecolor": "white",
           "zerolinewidth": 2
          },
          "yaxis": {
           "automargin": true,
           "gridcolor": "white",
           "linecolor": "white",
           "ticks": "",
           "title": {
            "standoff": 15
           },
           "zerolinecolor": "white",
           "zerolinewidth": 2
          }
         }
        },
        "xaxis": {
         "anchor": "y",
         "domain": [
          0,
          1
         ],
         "dtick": 10,
         "range": [
          10,
          100
         ],
         "showgrid": true,
         "tick0": 10,
         "title": {
          "text": "Unposted Final Score"
         }
        },
        "yaxis": {
         "anchor": "x",
         "domain": [
          0,
          1
         ],
         "title": {
          "text": "count"
         }
        }
       }
      }
     },
     "metadata": {},
     "output_type": "display_data"
    }
   ],
   "source": [
    "# cuts = [max(nTotals); floor([mu+0.8*sigma mu-0.2*sigma mu-1.4*sigma mu-2.2*sigma])'];\n",
    "\n",
    "# Extract final score values\n",
    "s    = c.xs(\"Unposted Final Score\",axis=1)\n",
    "mu   = np.mean(s)\n",
    "sig  = np.std(s)\n",
    "\n",
    "# Standard cut-offs\n",
    "bigCuts = np.array([np.max(s), mu+0.8*sig, mu-0.2*sig, mu-1.4*sig, mu-2.2*sig])\n",
    "\n",
    "# COVID cut-off correction\n",
    "# bigCuts[1:] = bigCuts[1:]-10\n",
    "\n",
    "# Adjustment to cutoffs, when the mean is relatively high\n",
    "# print('Note: I am giving the students 5 bonus points in this grade calculation')\n",
    "# bigCuts[1:] = bigCuts[1:]-5\n",
    "\n",
    "# Initialize cut-off values\n",
    "cutVal    = np.array([])\n",
    "# cutVal[0] = 100\n",
    "\n",
    "for i in range(1,len(bigCuts)):\n",
    "    rVal     = bigCuts[i-1] - bigCuts[i]\n",
    "    cutVal   = np.append(cutVal, round(bigCuts[i] + 0.75*rVal,2))\n",
    "    cutVal   = np.append(cutVal, round(bigCuts[i] + 0.25*rVal ,2))\n",
    "    cutVal   = np.append(cutVal, round(bigCuts[i],2))\n",
    "\n",
    "# Remove first Add floor value\n",
    "# cutVal = cutVal[1:]\n",
    "cutVal = np.append(cutVal,0)\n",
    "\n",
    "\n",
    "\n",
    "# Define data for the table\n",
    "d = {'Grades': ['A+','A','A-','B+','B','B-','C+','C','C-','D+','D','D-','F'],\n",
    "     'Cutoff': cutVal}\n",
    "\n",
    "# Create table of cutoffs\n",
    "cuts = pd.DataFrame(d)\n",
    "\n",
    "bigCuts[0] = 100\n",
    "\n",
    "# Output the table\n",
    "print(cuts)\n",
    "\n",
    "# Plot cutoffs on distribution\n",
    "fig = px.histogram(cnScore, x=\"Unposted Final Score\", nbins = 100)\n",
    "fig.layout.update(showlegend=False,bargap=0.05)\n",
    "fig.update_xaxes(range=[10, 100], tick0=10, dtick=10, showgrid=True)\n",
    "for cLine in cutVal:\n",
    "    fig.add_vline(x=cLine,line_color='gray', line_dash=\"dash\")\n",
    "for cLine in bigCuts:\n",
    "    fig.add_vline(x=cLine,line_color='white')\n",
    "fig.show()"
   ]
  },
  {
   "cell_type": "markdown",
   "metadata": {
    "collapsed": false,
    "pycharm": {
     "name": "#%% md\n"
    }
   },
   "source": [
    "# Display roster scores\n",
    "This offers the opportunity to check that the final grades in Canvas match expectation from the cutoff values."
   ]
  },
  {
   "cell_type": "code",
   "execution_count": 4,
   "metadata": {
    "collapsed": false,
    "pycharm": {
     "name": "#%%\n"
    }
   },
   "outputs": [
    {
     "data": {
      "text/html": [
       "<div>\n",
       "<style scoped>\n",
       "    .dataframe tbody tr th:only-of-type {\n",
       "        vertical-align: middle;\n",
       "    }\n",
       "\n",
       "    .dataframe tbody tr th {\n",
       "        vertical-align: top;\n",
       "    }\n",
       "\n",
       "    .dataframe thead th {\n",
       "        text-align: right;\n",
       "    }\n",
       "</style>\n",
       "<table border=\"1\" class=\"dataframe\">\n",
       "  <thead>\n",
       "    <tr style=\"text-align: right;\">\n",
       "      <th></th>\n",
       "      <th>Student</th>\n",
       "      <th>Final_score</th>\n",
       "      <th>Final_grade</th>\n",
       "    </tr>\n",
       "  </thead>\n",
       "  <tbody>\n",
       "    <tr>\n",
       "      <th>0</th>\n",
       "      <td>Abubakr, Mohammad</td>\n",
       "      <td>95.03</td>\n",
       "      <td>A</td>\n",
       "    </tr>\n",
       "    <tr>\n",
       "      <th>1</th>\n",
       "      <td>Abushaban, Noor</td>\n",
       "      <td>94.03</td>\n",
       "      <td>A</td>\n",
       "    </tr>\n",
       "    <tr>\n",
       "      <th>2</th>\n",
       "      <td>Aguilar, Fernando Jr.</td>\n",
       "      <td>93.39</td>\n",
       "      <td>A</td>\n",
       "    </tr>\n",
       "    <tr>\n",
       "      <th>3</th>\n",
       "      <td>Ahmad, Shayan Riaz</td>\n",
       "      <td>85.70</td>\n",
       "      <td>B</td>\n",
       "    </tr>\n",
       "    <tr>\n",
       "      <th>4</th>\n",
       "      <td>Ahmed, Salmaan</td>\n",
       "      <td>72.23</td>\n",
       "      <td>C+</td>\n",
       "    </tr>\n",
       "    <tr>\n",
       "      <th>...</th>\n",
       "      <td>...</td>\n",
       "      <td>...</td>\n",
       "      <td>...</td>\n",
       "    </tr>\n",
       "    <tr>\n",
       "      <th>202</th>\n",
       "      <td>Yun, Phoebe Anna E.</td>\n",
       "      <td>85.44</td>\n",
       "      <td>B</td>\n",
       "    </tr>\n",
       "    <tr>\n",
       "      <th>203</th>\n",
       "      <td>Zaman, Maesha Prema</td>\n",
       "      <td>72.87</td>\n",
       "      <td>C+</td>\n",
       "    </tr>\n",
       "    <tr>\n",
       "      <th>204</th>\n",
       "      <td>Zhao, Chongxuan</td>\n",
       "      <td>87.29</td>\n",
       "      <td>B+</td>\n",
       "    </tr>\n",
       "    <tr>\n",
       "      <th>205</th>\n",
       "      <td>Zhu, Mingjian</td>\n",
       "      <td>86.17</td>\n",
       "      <td>B</td>\n",
       "    </tr>\n",
       "    <tr>\n",
       "      <th>206</th>\n",
       "      <td>Student, Test</td>\n",
       "      <td>0.15</td>\n",
       "      <td>F</td>\n",
       "    </tr>\n",
       "  </tbody>\n",
       "</table>\n",
       "<p>207 rows × 3 columns</p>\n",
       "</div>"
      ],
      "text/plain": [
       "                   Student  Final_score Final_grade\n",
       "0        Abubakr, Mohammad        95.03           A\n",
       "1          Abushaban, Noor        94.03           A\n",
       "2    Aguilar, Fernando Jr.        93.39           A\n",
       "3       Ahmad, Shayan Riaz        85.70           B\n",
       "4           Ahmed, Salmaan        72.23          C+\n",
       "..                     ...          ...         ...\n",
       "202    Yun, Phoebe Anna E.        85.44           B\n",
       "203    Zaman, Maesha Prema        72.87          C+\n",
       "204        Zhao, Chongxuan        87.29          B+\n",
       "205          Zhu, Mingjian        86.17           B\n",
       "206          Student, Test         0.15           F\n",
       "\n",
       "[207 rows x 3 columns]"
      ]
     },
     "execution_count": 4,
     "metadata": {},
     "output_type": "execute_result"
    }
   ],
   "source": [
    "ltr_grades = pd.Series(dtype='str')\n",
    "\n",
    "for c_score in s:\n",
    "\n",
    "    if c_score>=cutVal[0]:\n",
    "        idx = 0\n",
    "    elif c_score<cutVal[-2]:\n",
    "        idx = len(cutVal)-1\n",
    "    else:\n",
    "        idx = np.where((c_score>=cutVal[1:]) & (c_score<cutVal[:-1]))[0]+1\n",
    "\n",
    "    # Check output\n",
    "    if len([idx])==0:\n",
    "        raise ValueError('No matching grade found')\n",
    "    elif len([idx])>1:\n",
    "        raise ValueError('More than one matching grade found')\n",
    "\n",
    "    ltr_grades = pd.concat([ltr_grades, pd.Series(cuts.Grades[idx])])\n",
    "\n",
    "# Reindex\n",
    "new_idx           = np.arange(len(ltr_grades))\n",
    "ltr_grades.index  = new_idx\n",
    "\n",
    "# Create new dataframe\n",
    "d_frame = {'Student': c.Student, 'Final_score': s, 'Final_grade': ltr_grades}\n",
    "df_out = pd.DataFrame(d_frame)\n",
    "\n",
    "df_out"
   ]
  },
  {
   "cell_type": "markdown",
   "metadata": {
    "collapsed": false,
    "pycharm": {
     "name": "#%% md\n"
    }
   },
   "source": [
    "# Check roster grades\n",
    "After setting the cut-offs, export the grades again to check that they match my calculation.\n",
    "One way that discrepancies can arise is if \"Automatically apply grade for missing submissions\" is not set under \"Gradebook settings\". Note that the grade for missing assignments should be 0%\n",
    "See information below about the different types of final scores."
   ]
  },
  {
   "cell_type": "code",
   "execution_count": 5,
   "metadata": {
    "collapsed": false,
    "pycharm": {
     "name": "#%%\n"
    }
   },
   "outputs": [
    {
     "name": "stdout",
     "output_type": "stream",
     "text": [
      "No discrepancies between the various final grades in Canvas and from my own calculations! Final grades ready to be posted.\n"
     ]
    }
   ],
   "source": [
    "# Set 'no problem variable'\n",
    "no_prob = True\n",
    "\n",
    "# Loop thru my listing of students\n",
    "for i_student in df_out.index:\n",
    "\n",
    "    # Extract all final grades for i_student\n",
    "    c_student          = c.xs(\"Student\",axis=1)[i_student]\n",
    "    c_unposted_final    = c.xs(\"Unposted Final Grade\",axis=1)[i_student]\n",
    "    c_unposted_current = c.xs(\"Unposted Current Grade\",axis=1)[i_student]\n",
    "    c_final_grade       = c.xs(\"Final Grade\",axis=1)[i_student]\n",
    "    my_student         = df_out.Student[i_student]\n",
    "    my_grade           = df_out.Final_grade[i_student]\n",
    "\n",
    "    # Report mismatches\n",
    "    if c_student is not my_student:\n",
    "        raise ValueError('Student names are not matching between my roster and Canvas')\n",
    "\n",
    "    if (c_unposted_final != c_unposted_current):\n",
    "        print(c_student + \": Unposted Final Grade is not the same as Unposted Current Grade in Canvas\")\n",
    "        no_prob = False\n",
    "\n",
    "    if (c_unposted_final != c_final_grade):\n",
    "        print(c_student + \": Unposted Final Score is not the same as Final Grade in Canvas\")\n",
    "        no_prob = False\n",
    "\n",
    "    if (c_unposted_current != c_final_grade):\n",
    "        print(c_student + \": Unposted Current Score is not the same as Final Grade in Canvas\")\n",
    "        no_prob = False\n",
    "\n",
    "    if (my_grade != c_unposted_final):\n",
    "        print(c_student + \": My final grade is not the same as Unposted Final Grade\")\n",
    "        no_prob = False\n",
    "\n",
    "if no_prob:\n",
    "    print('No discrepancies between the various final grades in Canvas and from my own calculations! Final grades ready to be posted.')\n",
    "else:\n",
    "    print(' ')\n",
    "    print('Look into resolving the above discrepancies and then rerun this notebook with updated csv grade book from Canvas')\n"
   ]
  },
  {
   "cell_type": "markdown",
   "metadata": {
    "collapsed": false,
    "pycharm": {
     "name": "#%% md\n"
    }
   },
   "source": [
    "# Info on Canvas' confusing grade categories\n",
    "\n",
    "\n",
    "This is from [this website](https://tuftsedtech.screenstepslive.com/s/18992/m/73355/l/1028758-understanding-canvas-gradebook-totals-and-exported-totals).\n",
    "\n",
    "1. Current Score  Percentage score for graded, NOT MUTED, assignments (Note: John has a current score of 90% because he has only one graded, unmuted assignment, in which he received 45 out of 50 points (90%)\n",
    "\n",
    "1. Unposted Current Score  Percentage score for all graded assignments (muted and unmuted) (Note: John has an unposted current score of 80% because he has only 2 graded assignments receiving 80 points out of a possible 100 points (80%)\n",
    "\n",
    "1.  Final Score  Percentage score for all graded and ungraded assignments EXCLUDING muted “Grades”. “0” points are awarded for all un-submitted (ungraded) and muted assignments. (Note: John has a final score of 30% because he was awarded “45” points for paper 1, “0” points for paper 2 (muted) and “0” points for paper 3 - Total 45 out of 150 or 30%)\n",
    "\n",
    "1. Unposted Final Score - Percentage score for all graded and ungraded assignments INCLUDING muted assignment grades, “0” points are awarded for all un-submitted (ungraded) assignments. (Note: John has an unposted final score of 53.33% because he was awarded “45” points for paper 1, “35” points for paper 2 and “0” points for paper 3  total 80 points out of 150 possible points (53.33%)\n",
    "\n",
    "1. Current Grade  Letter Grade for graded, NOT MUTED, assignments (Note: John has a current grade of A- because he has only one graded, unmuted assignment, in which he received 45 out of 50 points (90% or A-)\n",
    "\n",
    "1. Unposted Current Grade  Letter Grade for all graded assignment (muted and unmuted) (Note: John has an unposted current grade of B- because he has only 2 graded assignments receiving 80 points out of a possible 100 points (80% or B-)\n",
    "\n",
    "1. Final Grade  Letter Grade for all graded and ungraded assignments EXCLUDING muted “Grades”. “0” points are awarded for all un-submitted (ungraded) and muted assignments. (Note: John has a final grade of F because he was awarded “45” points for paper 1, “0” points for paper 2 (muted) and “0” points for paper 3 - Total 45 out of 150 or 30% or F)\n",
    "\n",
    "1. Unposted Final Grade  Letter Grade for all graded and ungraded assignments INCLUDING muted assignments, “0” points are awarded for all un-submitted (ungraded) assignment grades. (Note: John has an unposted final score of F because he was awarded “45” points for paper 1, “35” points for paper 2 and “0” points for paper 3  total 80 points out of 150 possible points (53.33% or F)"
   ]
  }
 ],
 "metadata": {
  "interpreter": {
   "hash": "2e1c2c580649be8b4e2a44841d961d15209edf1c32bae450535cb86bcd584cf2"
  },
  "kernelspec": {
   "display_name": "Python 3.9.7 ('canvas')",
   "language": "python",
   "name": "python3"
  },
  "language_info": {
   "codemirror_mode": {
    "name": "ipython",
    "version": 3
   },
   "file_extension": ".py",
   "mimetype": "text/x-python",
   "name": "python",
   "nbconvert_exporter": "python",
   "pygments_lexer": "ipython3",
   "version": "3.9.7"
  },
  "orig_nbformat": 4
 },
 "nbformat": 4,
 "nbformat_minor": 2
}
