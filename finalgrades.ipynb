{
 "cells": [
  {
   "cell_type": "markdown",
   "metadata": {
    "pycharm": {
     "name": "#%% md\n"
    }
   },
   "source": [
    "# Packages and paths"
   ]
  },
  {
   "cell_type": "code",
   "execution_count": null,
   "metadata": {
    "pycharm": {
     "name": "#%%\n"
    }
   },
   "outputs": [],
   "source": [
    "# Packages and modules\n",
    "import os\n",
    "import sys\n",
    "import numpy as np\n",
    "import calc_poll as cp\n",
    "import pandas as pd\n",
    "import plotly.express as px\n",
    "\n",
    "# Mount Google Drive, if running in Colab\n",
    "if 'COLAB_GPU' in os.environ:\n",
    "    from google.colab import drive\n",
    "    drive.mount('/content/drive')\n",
    "    sys.path.insert(0,'/content/drive/My Drive/Colab Notebooks/Canvas')\n",
    "\n",
    "# Change this to the path for the current version of the course\n",
    "if os.path.isdir('/Users/mmchenry/Documents/Teaching'):\n",
    "    root = '/Users/mmchenry/Documents/Teaching/E109/2022_SS2'\n",
    "\n",
    "# Here is an alternate path, on Google Drive\n",
    "elif os.path.isdir('/content/drive/MyDrive/Teaching'):\n",
    "    root = '/content/drive/MyDrive/Teaching/E109 Human Physiology/e109 S2022'\n",
    "\n",
    "# And here is another possibility (e.g., for the TA)\n",
    "elif os.path.isdir('/content/drive/MyDrive/Grad/teaching/e109s22/e109 S2022'):\n",
    "    root = '/content/drive/MyDrive/Grad/teaching/e109s22/e109 S2022'\n",
    "\n",
    "else:\n",
    "    raise ValueError('root path not found. Need to add new root path.')\n"
   ]
  },
  {
   "cell_type": "markdown",
   "metadata": {
    "pycharm": {
     "name": "#%% md\n"
    }
   },
   "source": [
    "# Import scores"
   ]
  },
  {
   "cell_type": "code",
   "execution_count": null,
   "metadata": {
    "pycharm": {
     "name": "#%%\n"
    }
   },
   "outputs": [],
   "source": [
    "# Path to canvas CSV file that includes updated roster\n",
    "cn_path = root + os.path.sep + \"canvas.csv\"\n",
    "\n",
    "# Check path\n",
    "if not os.path.isfile(cn_path):\n",
    "    raise ValueError('canvas.csv file not found')\n",
    "\n",
    "# Open and read canvas data\n",
    "cn_file = open(cn_path)\n",
    "c = pd.read_csv(cn_file,skiprows=[1, 2])\n",
    "\n",
    "# From the canvas file, capture student IDs\n",
    "# cnID = c.xs(\"SIS Login ID\",axis=1)\n",
    "\n",
    "# From the canvas file, final score, trim header\n",
    "cnScore = c.xs(\"Unposted Final Score\",axis=1)\n",
    "\n",
    "# Plot raw score distribution\n",
    "# fig = px.histogram(cnScore, labels={\"value\"=\"Final score\"})\n",
    "fig = px.histogram(cnScore, x=\"Unposted Final Score\", nbins = 100)\n",
    "fig.layout.update(showlegend=False,bargap=0.05)\n",
    "fig.update_xaxes(range=[10, 100], tick0=10, dtick=10, showgrid=True)\n",
    "fig.show()"
   ]
  },
  {
   "cell_type": "markdown",
   "metadata": {
    "pycharm": {
     "name": "#%% md\n"
    }
   },
   "source": []
  },
  {
   "cell_type": "markdown",
   "metadata": {
    "pycharm": {
     "name": "#%% md\n"
    }
   },
   "source": [
    "# Calculate cutoffs\n",
    "Under the course settings in Canvas, input the grade cut-offs by clicking on 'Enable course grading scheme' and then inputting the values by clicking on 'view grading scheme'."
   ]
  },
  {
   "cell_type": "code",
   "execution_count": null,
   "outputs": [],
   "source": [
    "# cuts = [max(nTotals); floor([mu+0.8*sigma mu-0.2*sigma mu-1.4*sigma mu-2.2*sigma])'];\n",
    "\n",
    "# Extract final score values\n",
    "s    = c.xs(\"Unposted Final Score\",axis=1)\n",
    "mu   = np.mean(s)\n",
    "sig  = np.std(s)\n",
    "\n",
    "# Standard cut-offs\n",
    "bigCuts = np.array([np.max(s), mu+0.8*sig, mu-0.2*sig, mu-1.4*sig, mu-2.2*sig])\n",
    "\n",
    "# COVID cut-off correction\n",
    "# bigCuts[1:] = bigCuts[1:]-10\n",
    "\n",
    "# Adjustment to cutoffs, when the mean is relatively high\n",
    "print('Note: I am giving the students 5 bonus points in this grade calculation')\n",
    "bigCuts[1:] = bigCuts[1:]-5\n",
    "\n",
    "# Initialize cut-off values\n",
    "cutVal    = np.array([])\n",
    "# cutVal[0] = 100\n",
    "\n",
    "for i in range(1,len(bigCuts)):\n",
    "    rVal     = bigCuts[i-1] -bigCuts[i]\n",
    "    cutVal   = np.append(cutVal, round(bigCuts[i] + 0.75*rVal,2))\n",
    "    cutVal   = np.append(cutVal, round(bigCuts[i] + 0.25*rVal ,2))\n",
    "    cutVal   = np.append(cutVal, round(bigCuts[i],2))\n",
    "\n",
    "# Remove first Add floor value\n",
    "cutVal = cutVal[1:]\n",
    "cutVal = np.append(cutVal,0)\n",
    "\n",
    "# Define data for the table\n",
    "d = {'Grades': ['A','A-','B+','B','B-','C+','C','C-','D+','D','D-','F'],\n",
    "     'Cutoff': cutVal}\n",
    "\n",
    "# Create table of cutoffs\n",
    "cuts = pd.DataFrame(d)\n",
    "\n",
    "bigCuts[0] = 100\n",
    "\n",
    "# Output the table\n",
    "print(cuts)\n",
    "\n",
    "# Plot cutoffs on distribution\n",
    "fig = px.histogram(cnScore, x=\"Unposted Final Score\", nbins = 100)\n",
    "fig.layout.update(showlegend=False,bargap=0.05)\n",
    "fig.update_xaxes(range=[10, 100], tick0=10, dtick=10, showgrid=True)\n",
    "for cLine in cutVal:\n",
    "    fig.add_vline(x=cLine,line_color='gray', line_dash=\"dash\")\n",
    "for cLine in bigCuts:\n",
    "    fig.add_vline(x=cLine,line_color='white')\n",
    "fig.show()"
   ],
   "metadata": {
    "collapsed": false,
    "pycharm": {
     "name": "#%%\n"
    }
   }
  },
  {
   "cell_type": "markdown",
   "source": [
    "# Display roster scores\n",
    "This offers the opportunity to check that the final grades in Canvas match expectation from the cutoff values."
   ],
   "metadata": {
    "collapsed": false,
    "pycharm": {
     "name": "#%% md\n"
    }
   }
  },
  {
   "cell_type": "code",
   "execution_count": null,
   "outputs": [],
   "source": [
    "ltr_grades = pd.Series(dtype='str')\n",
    "\n",
    "for c_score in s:\n",
    "\n",
    "    if c_score>=cutVal[0]:\n",
    "        idx = 0\n",
    "    elif c_score<cutVal[-2]:\n",
    "        idx = len(cutVal)-1\n",
    "    else:\n",
    "        idx = np.where((c_score>=cutVal[1:]) & (c_score<cutVal[:-1]))[0]+1\n",
    "\n",
    "    # Check output\n",
    "    if len([idx])==0:\n",
    "        raise ValueError('No matching grade found')\n",
    "    elif len([idx])>1:\n",
    "        raise ValueError('More than one matching grade found')\n",
    "\n",
    "    ltr_grades = pd.concat([ltr_grades, pd.Series(cuts.Grades[idx])])\n",
    "\n",
    "# Reindex\n",
    "new_idx           = np.arange(len(ltr_grades))\n",
    "ltr_grades.index  = new_idx\n",
    "\n",
    "# Create new dataframe\n",
    "d_frame = {'Student': c.Student, 'Final_score': s, 'Final_grade': ltr_grades}\n",
    "df_out = pd.DataFrame(d_frame)\n",
    "\n",
    "df_out"
   ],
   "metadata": {
    "collapsed": false,
    "pycharm": {
     "name": "#%%\n"
    }
   }
  },
  {
   "cell_type": "markdown",
   "source": [
    "# Check roster grades\n",
    "After setting the cut-offs, export the grades again to check that they match my calculation.\n",
    "One way that discrepancies can arise is if \"Automatically apply grade for missing submissions\" is not set under \"Gradebook settings\". Note that the grade for missing assignments should be 0%\n",
    "See information below about the different types of final scores."
   ],
   "metadata": {
    "collapsed": false,
    "pycharm": {
     "name": "#%% md\n"
    }
   }
  },
  {
   "cell_type": "code",
   "execution_count": null,
   "outputs": [],
   "source": [
    "# Set 'no problem variable'\n",
    "no_prob = True\n",
    "\n",
    "# Loop thru my listing of students\n",
    "for i_student in df_out.index:\n",
    "\n",
    "    # Extract all final grades for i_student\n",
    "    c_student          = c.xs(\"Student\",axis=1)[i_student]\n",
    "    c_unposted_final    = c.xs(\"Unposted Final Grade\",axis=1)[i_student]\n",
    "    c_unposted_current = c.xs(\"Unposted Current Grade\",axis=1)[i_student]\n",
    "    c_final_grade       = c.xs(\"Final Grade\",axis=1)[i_student]\n",
    "    my_student         = df_out.Student[i_student]\n",
    "    my_grade           = df_out.Final_grade[i_student]\n",
    "\n",
    "    # Report mismatches\n",
    "    if c_student is not my_student:\n",
    "        raise ValueError('Student names are not matching between my roster and Canvas')\n",
    "\n",
    "    if (c_unposted_final != c_unposted_current):\n",
    "        print(c_student + \": Unposted Final Grade is not the same as Unposted Current Grade in Canvas\")\n",
    "        no_prob = False\n",
    "\n",
    "    if (c_unposted_final != c_final_grade):\n",
    "        print(c_student + \": Unposted Final Score is not the same as Final Grade in Canvas\")\n",
    "        no_prob = False\n",
    "\n",
    "    if (c_unposted_current != c_final_grade):\n",
    "        print(c_student + \": Unposted Current Score is not the same as Final Grade in Canvas\")\n",
    "        no_prob = False\n",
    "\n",
    "    if (my_grade != c_unposted_final):\n",
    "        print(c_student + \": My final grade is not the same as Unposted Final Grade\")\n",
    "        no_prob = False\n",
    "\n",
    "if no_prob:\n",
    "    print('No discrepancies between the various final grades in Canvas and from my own calculations! Final grades ready to be posted.')\n",
    "else:\n",
    "    print(' ')\n",
    "    print('Look into resolving the above discrepancies and then rerun this notebook with updated csv grade book from Canvas')\n"
   ],
   "metadata": {
    "collapsed": false,
    "pycharm": {
     "name": "#%%\n"
    }
   }
  },
  {
   "cell_type": "markdown",
   "source": [
    "# Info on Canvas' confusing grade categories\n",
    "\n",
    "\n",
    "This is from [this website](https://tuftsedtech.screenstepslive.com/s/18992/m/73355/l/1028758-understanding-canvas-gradebook-totals-and-exported-totals).\n",
    "\n",
    "1. Current Score  Percentage score for graded, NOT MUTED, assignments (Note: John has a current score of 90% because he has only one graded, unmuted assignment, in which he received 45 out of 50 points (90%)\n",
    "\n",
    "1. Unposted Current Score  Percentage score for all graded assignments (muted and unmuted) (Note: John has an unposted current score of 80% because he has only 2 graded assignments receiving 80 points out of a possible 100 points (80%)\n",
    "\n",
    "1.  Final Score  Percentage score for all graded and ungraded assignments EXCLUDING muted “Grades”. “0” points are awarded for all un-submitted (ungraded) and muted assignments. (Note: John has a final score of 30% because he was awarded “45” points for paper 1, “0” points for paper 2 (muted) and “0” points for paper 3 - Total 45 out of 150 or 30%)\n",
    "\n",
    "1. Unposted Final Score - Percentage score for all graded and ungraded assignments INCLUDING muted assignment grades, “0” points are awarded for all un-submitted (ungraded) assignments. (Note: John has an unposted final score of 53.33% because he was awarded “45” points for paper 1, “35” points for paper 2 and “0” points for paper 3  total 80 points out of 150 possible points (53.33%)\n",
    "\n",
    "1. Current Grade  Letter Grade for graded, NOT MUTED, assignments (Note: John has a current grade of A- because he has only one graded, unmuted assignment, in which he received 45 out of 50 points (90% or A-)\n",
    "\n",
    "1. Unposted Current Grade  Letter Grade for all graded assignment (muted and unmuted) (Note: John has an unposted current grade of B- because he has only 2 graded assignments receiving 80 points out of a possible 100 points (80% or B-)\n",
    "\n",
    "1. Final Grade  Letter Grade for all graded and ungraded assignments EXCLUDING muted “Grades”. “0” points are awarded for all un-submitted (ungraded) and muted assignments. (Note: John has a final grade of F because he was awarded “45” points for paper 1, “0” points for paper 2 (muted) and “0” points for paper 3 - Total 45 out of 150 or 30% or F)\n",
    "\n",
    "1. Unposted Final Grade  Letter Grade for all graded and ungraded assignments INCLUDING muted assignments, “0” points are awarded for all un-submitted (ungraded) assignment grades. (Note: John has an unposted final score of F because he was awarded “45” points for paper 1, “35” points for paper 2 and “0” points for paper 3  total 80 points out of 150 possible points (53.33% or F)"
   ],
   "metadata": {
    "collapsed": false,
    "pycharm": {
     "name": "#%% md\n"
    }
   }
  }
 ],
 "metadata": {
  "interpreter": {
   "hash": "2e1c2c580649be8b4e2a44841d961d15209edf1c32bae450535cb86bcd584cf2"
  },
  "kernelspec": {
   "display_name": "Python 3.9.7 ('canvas')",
   "language": "python",
   "name": "python3"
  },
  "language_info": {
   "codemirror_mode": {
    "name": "ipython",
    "version": 3
   },
   "file_extension": ".py",
   "mimetype": "text/x-python",
   "name": "python",
   "nbconvert_exporter": "python",
   "pygments_lexer": "ipython3",
   "version": "3.9.7"
  },
  "orig_nbformat": 4
 },
 "nbformat": 4,
 "nbformat_minor": 2
}