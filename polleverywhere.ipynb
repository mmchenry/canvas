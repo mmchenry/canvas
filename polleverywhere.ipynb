{
 "cells": [
  {
   "attachments": {},
   "cell_type": "markdown",
   "metadata": {},
   "source": [
    "# Instructions (when setting this up for a new quarter)\n",
    "1. In Canvas, make an assignment called polleverywhere that has as many points as the percentage of final grade, which should also be equal the value of polleverywhere scores. \n",
    "2. In 'Grades' (in Canvas), select 'Actions: Export' to download a csv file.\n",
    "3. Rename that file as 'canvas.csv' and move it to the root path (defined below).\n",
    "4. Open canvas.csv in excel, or other such app, and copy the name of the column that holds your polleverywhere scores. Paste that name in the cell below (in quotes) for the cn_fieldname variable.\n",
    "5. Place all polleverywhere CSV files in a folder called 'polleverywhere csv files', within the root directory. Polleverywhere allows exporting in a hierarchical way, so you could have just one file. However, it's probably easier to keep things organized by periodically adding a new CSV file, rather than overwriting the old one with a bigger csv file.\n",
    "6. In the cell below (\"Inititialize packages . . \"), update all paths and variables.\n",
    "7. Run all cells to generate 'canvas_upload.csv'\n",
    "8. In 'Grades', select 'Actions: Import' to upload the scores and follow the instructions."
   ]
  },
  {
   "cell_type": "markdown",
   "metadata": {},
   "source": [
    "# Tips (once set up)\n",
    "1. Be sure to upload a new canvas.csv file periodically to keep pace with changes in the roster\n",
    "2. Keep adding CSV files from polleverywhere into the 'polleverywhere CSV files' folder, as they are generated\n",
    "3. Switching between users will require changing the root path, so comment out the root path and define your own when you switch \n",
    "4. Don't forget to download canvas_upload.csv after running the code (give it a minute or two to update first) and then upload it to Canvas to update the scores.\n",
    "5. Note that the 'Grade' scores from polleverywhere are normalized by the 'participation' score, so it's okay if some of the questions do not end up getting used in class."
   ]
  },
  {
   "cell_type": "markdown",
   "metadata": {},
   "source": [
    "# Initialize packages, paths, and parameters"
   ]
  },
  {
   "cell_type": "code",
   "execution_count": 3,
   "metadata": {},
   "outputs": [],
   "source": [
    "# Packages and modules \n",
    "import os\n",
    "import sys\n",
    "import calc_poll as cp\n",
    "\n",
    "# Mount Google Drive, if running in Colab\n",
    "if 'COLAB_GPU' in os.environ:\n",
    "    from google.colab import drive\n",
    "    drive.mount('/content/drive')\n",
    "    sys.path.insert(0,'/content/drive/My Drive/Colab Notebooks/Canvas')\n",
    "\n",
    "# Change this to the path for the current version of the course\n",
    "if os.path.isdir('/Users/mmchenry/Documents/Teaching'):\n",
    "    root = '/Users/mmchenry/Documents/Teaching/E112L/2023'\n",
    "\n",
    "# Here is an alternate path, on Google Drive\n",
    "elif os.path.isdir('/content/drive/MyDrive/Teaching'):\n",
    "    root = '/content/drive/MyDrive/Teaching/E109 Human Physiology/e109 S2022'\n",
    "\n",
    "# And here is another possibility (e.g., for the TA)\n",
    "elif os.path.isdir('/content/drive/MyDrive/Grad/teaching/e109s22/e109 S2022'):\n",
    "    root = '/content/drive/MyDrive/Grad/teaching/e109s22/e109 S2022'\n",
    "\n",
    "else:\n",
    "    raise ValueError('root path not found. Need to add new root path.')\n",
    "\n",
    "# Proportion of grade earned just from participation\n",
    "propPart = 0.75\n",
    "\n",
    "# Proportion of responses necessary for full participation credit\n",
    "partPart = 0.1\n",
    "\n",
    "# Total value of polleverywhere questions in assignment points\n",
    "pollValue = 100\n",
    "\n",
    "# Name of assignment from canvas csv file\n",
    "cn_fieldname = \"Week 2 participation (1164214)\""
   ]
  },
  {
   "cell_type": "markdown",
   "metadata": {},
   "source": [
    "# Calculate polleverywhere scores from csv files, save to canvas csv file"
   ]
  },
  {
   "attachments": {},
   "cell_type": "markdown",
   "metadata": {},
   "source": [
    "### Calculate scores for questions where at least one person responded"
   ]
  },
  {
   "cell_type": "code",
   "execution_count": 7,
   "metadata": {},
   "outputs": [
    {
     "name": "stdout",
     "output_type": "stream",
     "text": [
      "File to upload to Canvas: /Users/mmchenry/Documents/Teaching/E112L/2023/canvas_upload.csv\n"
     ]
    }
   ],
   "source": [
    "cp.export_partial_credit(root, cn_fieldname, propPart, pollValue)"
   ]
  },
  {
   "attachments": {},
   "cell_type": "markdown",
   "metadata": {},
   "source": [
    "### Give full credit for anyone who recorded some proportion of the responses"
   ]
  },
  {
   "cell_type": "code",
   "execution_count": 8,
   "metadata": {},
   "outputs": [
    {
     "name": "stdout",
     "output_type": "stream",
     "text": [
      "File to upload to Canvas: /Users/mmchenry/Documents/Teaching/E112L/2023/canvas_upload.csv\n"
     ]
    }
   ],
   "source": [
    "cp.export_full_participation_credit(root, cn_fieldname, partPart, pollValue)"
   ]
  }
 ],
 "metadata": {
  "interpreter": {
   "hash": "2e1c2c580649be8b4e2a44841d961d15209edf1c32bae450535cb86bcd584cf2"
  },
  "kernelspec": {
   "display_name": "Python 3.9.7 ('canvas')",
   "language": "python",
   "name": "python3"
  },
  "language_info": {
   "codemirror_mode": {
    "name": "ipython",
    "version": 3
   },
   "file_extension": ".py",
   "mimetype": "text/x-python",
   "name": "python",
   "nbconvert_exporter": "python",
   "pygments_lexer": "ipython3",
   "version": "3.9.7"
  },
  "orig_nbformat": 4
 },
 "nbformat": 4,
 "nbformat_minor": 2
}
