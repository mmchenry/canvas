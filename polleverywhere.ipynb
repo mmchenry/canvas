{
  "cells": [
    {
      "cell_type": "markdown",
      "metadata": {
        "id": "view-in-github",
        "colab_type": "text"
      },
      "source": [
        "<a href=\"https://colab.research.google.com/github/mmchenry/canvas/blob/master/polleverywhere.ipynb\" target=\"_parent\"><img src=\"https://colab.research.google.com/assets/colab-badge.svg\" alt=\"Open In Colab\"/></a>"
      ]
    },
    {
      "cell_type": "markdown",
      "metadata": {
        "id": "TvtwOxRxj9HB"
      },
      "source": [
        "# Instructions (when setting this up for a new quarter)\n",
        "1. In Canvas, make an assignment called polleverywhere that has as many points as the percentage of final grade, which should also be equal the value of polleverywhere scores. \n",
        "2. In 'Grades' (in Canvas), select 'Actions: Export' to download a csv file.\n",
        "3. Rename that file as 'canvas.csv' and move it to the root path (defined below).\n",
        "4. Open canvas.csv in excel, or other such app, and copy the name of the column that holds your polleverywhere scores. Paste that name in the cell below (in quotes) for the cn_fieldname variable.\n",
        "5. Place all polleverywhere CSV files in the folder addressed by csv_path in the cell below. Polleverywhere allows exporting in a hierarchical way, so you could have just one file. However, it's probably easier to keep things organized by periodically adding a new CSV file, rather than overwriting the old one with a bigger csv file.\n",
        "6. In the cell below (\"Inititialize packages . . \"), update all paths and variables.\n",
        "7. Run all cells to generate 'canvas_upload.csv'\n",
        "8. In 'Grades', select 'Actions: Import' to upload the scores and follow the instructions."
      ]
    },
    {
      "cell_type": "markdown",
      "metadata": {
        "id": "XIrqHrqEj9HD"
      },
      "source": [
        "# Tips (once set up)\n",
        "1. Be sure to upload a new canvas.csv file periodically to keep pace with changes in the roster\n",
        "2. Keep adding CSV files from polleverywhere into the 'polleverywhere CSV files' folder, as they are generated\n",
        "3. Switching between users will require changing the root path, so comment out the root path and define your own when you switch \n",
        "4. Don't forget to download canvas_upload.csv after running the code (give it a minute or two to update first) and then upload it to Canvas to update the scores.\n",
        "5. Note that the 'Grade' scores from polleverywhere are normalized by the 'participation' score, so it's okay if some of the questions do not end up getting used in class."
      ]
    },
    {
      "cell_type": "markdown",
      "metadata": {
        "id": "nmGMvwPhj9HD"
      },
      "source": [
        "# Initialize packages, paths, and parameters"
      ]
    },
    {
      "cell_type": "code",
      "execution_count": 8,
      "metadata": {
        "id": "_6S3Zlc7j9HE",
        "outputId": "69ed5478-5735-4eea-b974-b3198f3cb76c",
        "colab": {
          "base_uri": "https://localhost:8080/"
        }
      },
      "outputs": [
        {
          "output_type": "stream",
          "name": "stdout",
          "text": [
            "Drive already mounted at /content/drive; to attempt to forcibly remount, call drive.mount(\"/content/drive\", force_remount=True).\n",
            "Automatic pdb calling has been turned ON\n"
          ]
        }
      ],
      "source": [
        "import pandas as pd\n",
        "import os\n",
        "import glob\n",
        "import numpy as np\n",
        "\n",
        "if 'COLAB_GPU' in os.environ:\n",
        "    # Mount Drive\n",
        "    from google.colab import drive\n",
        "    drive.mount('/content/drive')\n",
        "\n",
        "    # Set up debugger\n",
        "    %pip install -Uqq ipdb\n",
        "    import ipdb\n",
        "\n",
        "    # Debug, when error\n",
        "    %pdb on\n",
        "\n",
        "# Change this to the path for the current version of the course\n",
        "if os.path.isdir('/Users/mmchenry/Documents/Teaching'):\n",
        "    root = '/Users/mmchenry/Documents/Teaching/E109/2022 Spring E109'\n",
        "\n",
        "elif os.path.isdir('/content/drive/MyDrive/Teaching'):\n",
        "    root = '/content/drive/MyDrive/Teaching/E109 Human Physiology/e109 S2022'\n",
        "\n",
        "elif os.path.isdir('/content/drive/MyDrive/Grad/teaching/e109s22/e109 S2022'):\n",
        "    root = '/content/drive/MyDrive/Grad/teaching/e109s22/e109 S2022'\n",
        "\n",
        "else:\n",
        "    raise ValueError('root path not found. Need to add new root path.')\n",
        "\n",
        "# Create a folder within root that holds all the csv files from polleverywhere for the quarter\n",
        "csv_path = root + os.path.sep + \"polleverywhere csv files\"\n",
        "\n",
        "# Path to canvas CSV file that includes updated roster\n",
        "cn_path = root + os.path.sep + \"canvas.csv\"\n",
        "\n",
        "# Path to output csv file\n",
        "out_path = root + os.path.sep + \"canvas_upload.csv\"\n",
        "\n",
        "# Proportion of grade earned just from participation\n",
        "propPart = 0.75\n",
        "\n",
        "# Value of polleverywhere questions to final grade points\n",
        "pollValue = 5\n",
        "\n",
        "# Name of assignment from canvas csv file\n",
        "cn_fieldname = \"polleverywhere (956766)\""
      ]
    },
    {
      "cell_type": "markdown",
      "metadata": {
        "id": "zjsXxnpyj9HF"
      },
      "source": [
        "# Calculate polleverywhere scores from csv files, save to canvas csv file"
      ]
    },
    {
      "cell_type": "code",
      "execution_count": 17,
      "metadata": {
        "id": "VmnFYKc0j9HF"
      },
      "outputs": [],
      "source": [
        "# csv_list = os.listdir(csv_path)\n",
        "\n",
        "# Open and read canvas data, capture listing of login IDs\n",
        "cn_file = open(cn_path)\n",
        "c = pd.read_csv(cn_file)\n",
        "\n",
        "# From the canvas file, capture student IDs and the polleverywhere data\n",
        "cnID = c.xs(\"SIS Login ID\",axis=1)\n",
        "# cnPE = c.xs(cn_fieldname,axis=1)\n",
        "\n",
        "# Total points earned by each student\n",
        "tot_earn = np.zeros((len(cnID),1))\n",
        "\n",
        "# Toal particpation by each student\n",
        "tot_part = np.zeros((len(cnID),1))\n",
        "\n",
        "# Listing of csv files\n",
        "csv_list = glob.glob(csv_path + os.path.sep + '*.csv')\n",
        "\n",
        "# Loop thru each csv file from polleverywhere\n",
        "for fPath in csv_list:\n",
        "\n",
        "    # Open and import data from csv file into d\n",
        "    file = open(fPath)\n",
        "    d = pd.read_csv(file)\n",
        "    file.close()\n",
        "\n",
        "    # Extract columns\n",
        "    emails      = d.xs('Email','columns')\n",
        "    pt_poss     = d.xs('Total points possible','columns')\n",
        "    pt_earn     = d.xs('Total points earned','columns')\n",
        "\n",
        "    # Trim final nans\n",
        "    emails  = emails[:-2]\n",
        "    pt_poss = pt_poss[:-2]\n",
        "    pt_earn = pt_earn[:-2]\n",
        "    \n",
        "    # Loop trhu IDs in canvas data\n",
        "    for i in range(2,len(cnID)):\n",
        "        \n",
        "        # Index of emails that match current canvas netID\n",
        "        idx = emails.str.startswith(cnID[i])\n",
        "\n",
        "        # Check for multiple matches\n",
        "        if sum(idx)>1:\n",
        "            raise ValueError('More than one matching UCINetID')\n",
        "\n",
        "        # Log possible and earned points\n",
        "        elif sum(idx)==1: \n",
        "            tot_earn[i] = tot_earn[i] + float(pt_earn[idx]) \n",
        "            tot_part[i] = tot_part[i] + 1\n",
        "\n",
        "            # Set break point (in Colab)\n",
        "            # if 'COLAB_GPU' in os.environ:\n",
        "            #     ipdb.set_trace(context=6)\n",
        "\n",
        "# # Set break point\n",
        "# if 'COLAB_GPU' in os.environ:\n",
        "#     ipdb.set_trace(context=6)\n",
        "\n",
        "# Participation score\n",
        "tot_part = tot_part / max(tot_part) * pollValue * propPart\n",
        "\n",
        "# Correct answer score\n",
        "tot_earn = tot_earn / max(tot_earn) * pollValue * (1-propPart)\n",
        "\n",
        "# Transfer values to canvas table\n",
        "c.loc[:,cn_fieldname] = tot_part + tot_earn\n",
        "\n",
        "# Transfer only the necessary columns\n",
        "cOut = c[['Student','ID','SIS User ID','SIS Login ID','Section',cn_fieldname]]\n",
        "\n",
        "# Write to output file\n",
        "cOut.to_csv(out_path,index=False)\n",
        "\n",
        "# Close input csv files\n",
        "# file.close()\n",
        "cn_file.close()"
      ]
    }
  ],
  "metadata": {
    "interpreter": {
      "hash": "2e1c2c580649be8b4e2a44841d961d15209edf1c32bae450535cb86bcd584cf2"
    },
    "kernelspec": {
      "display_name": "Python 3.9.7 ('canvas')",
      "language": "python",
      "name": "python3"
    },
    "language_info": {
      "codemirror_mode": {
        "name": "ipython",
        "version": 3
      },
      "file_extension": ".py",
      "mimetype": "text/x-python",
      "name": "python",
      "nbconvert_exporter": "python",
      "pygments_lexer": "ipython3",
      "version": "3.9.7"
    },
    "orig_nbformat": 4,
    "colab": {
      "name": "polleverywhere.ipynb",
      "provenance": [],
      "include_colab_link": true
    }
  },
  "nbformat": 4,
  "nbformat_minor": 0
}